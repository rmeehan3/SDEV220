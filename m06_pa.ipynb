{
 "cells": [
  {
   "cell_type": "code",
   "execution_count": 3,
   "id": "b9785187",
   "metadata": {},
   "outputs": [],
   "source": [
    "#13.1\n",
    "\n",
    "import datetime\n",
    "\n",
    "date = datetime.date.today()\n",
    "file_ptr = open('today.txt', 'w')\n",
    "file_ptr.write(str(date))\n",
    "file_ptr.close()"
   ]
  },
  {
   "cell_type": "code",
   "execution_count": 4,
   "id": "25a072e6",
   "metadata": {},
   "outputs": [
    {
     "name": "stdout",
     "output_type": "stream",
     "text": [
      "2023-07-16\n"
     ]
    }
   ],
   "source": [
    "#13.2\n",
    "\n",
    "file = open('today.txt', 'r')\n",
    "today_string = file.read()\n",
    "file.close()\n",
    "print(today_string)"
   ]
  },
  {
   "cell_type": "code",
   "execution_count": 5,
   "id": "706ea90b",
   "metadata": {},
   "outputs": [
    {
     "name": "stdout",
     "output_type": "stream",
     "text": [
      "Today's date: 2023-07-16\n"
     ]
    }
   ],
   "source": [
    "#13.3\n",
    "\n",
    "today_date = datetime.datetime.strptime(today_string, '%Y-%m-%d').date()\n",
    "print(\"Today's date:\", today_date)"
   ]
  },
  {
   "cell_type": "code",
   "execution_count": 9,
   "id": "0d83fcfb",
   "metadata": {},
   "outputs": [
    {
     "name": "stdout",
     "output_type": "stream",
     "text": [
      "Time:  2023-07-16 23:25:05.476507\n",
      "Time:  2023-07-16 23:25:06.707970\n",
      "Time:  2023-07-16 23:25:08.163499\n"
     ]
    }
   ],
   "source": [
    "#15.1\n",
    "\n",
    "from datetime import datetime\n",
    "import multiprocessing\n",
    "import random\n",
    "import time\n",
    "\n",
    "def print_time():\n",
    "    date = datetime.now()\n",
    "    print('Time: ', date)\n",
    "    time.sleep(1)\n",
    "\n",
    "if __name__ == \"__main__\":\n",
    "    for i in range(3):\n",
    "        p = multiprocessing.Process(target=print_time())\n",
    "        p.start()\n",
    "        time.sleep(random.random())\n",
    "    p.terminate()"
   ]
  },
  {
   "cell_type": "code",
   "execution_count": null,
   "id": "0a49f23b",
   "metadata": {},
   "outputs": [],
   "source": []
  },
  {
   "cell_type": "code",
   "execution_count": null,
   "id": "1465b05d",
   "metadata": {},
   "outputs": [],
   "source": []
  },
  {
   "cell_type": "code",
   "execution_count": null,
   "id": "bfeb3144",
   "metadata": {},
   "outputs": [],
   "source": []
  }
 ],
 "metadata": {
  "kernelspec": {
   "display_name": "Python 3 (ipykernel)",
   "language": "python",
   "name": "python3"
  },
  "language_info": {
   "codemirror_mode": {
    "name": "ipython",
    "version": 3
   },
   "file_extension": ".py",
   "mimetype": "text/x-python",
   "name": "python",
   "nbconvert_exporter": "python",
   "pygments_lexer": "ipython3",
   "version": "3.10.9"
  }
 },
 "nbformat": 4,
 "nbformat_minor": 5
}
